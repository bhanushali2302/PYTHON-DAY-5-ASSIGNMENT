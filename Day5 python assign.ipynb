{
  "nbformat": 4,
  "nbformat_minor": 0,
  "metadata": {
    "colab": {
      "name": "Untitled1.ipynb",
      "provenance": []
    },
    "kernelspec": {
      "name": "python3",
      "display_name": "Python 3"
    }
  },
  "cells": [
    {
      "cell_type": "code",
      "metadata": {
        "id": "PPUphpC4yNI4",
        "colab_type": "code",
        "colab": {
          "base_uri": "https://localhost:8080/",
          "height": 50
        },
        "outputId": "c0ccfaf8-9939-4ddb-a8a9-da487711f80b"
      },
      "source": [
        " def pushZerosToEnd(arr, n): \n",
        "\tcount = 0 \n",
        "\t\n",
        "\tfor i in range(n): \n",
        "\t\tif arr[i] != 0: \n",
        "\t\t\t \n",
        "\t\t\tarr[count] = arr[i] \n",
        "\t\t\tcount+=1\n",
        "\t\n",
        "\twhile count < n: \n",
        "\t\tarr[count] = 0\n",
        "\t\tcount += 1\n",
        "\t\t \n",
        "arr = [1, 9, 8, 4, 0, 0, 2, 7, 0, 6, 0, 9] \n",
        "n = len(arr) \n",
        "pushZerosToEnd(arr, n) \n",
        "print(\"Array after pushing all zeros to end of array:\") \n",
        "print(arr) \n",
        " \n"
      ],
      "execution_count": 1,
      "outputs": [
        {
          "output_type": "stream",
          "text": [
            "Array after pushing all zeros to end of array:\n",
            "[1, 9, 8, 4, 2, 7, 6, 9, 0, 0, 0, 0]\n"
          ],
          "name": "stdout"
        }
      ]
    },
    {
      "cell_type": "code",
      "metadata": {
        "id": "JhAieVVCy-0P",
        "colab_type": "code",
        "colab": {
          "base_uri": "https://localhost:8080/",
          "height": 67
        },
        "outputId": "751b656e-2c5e-4d14-e1fe-79855188d75d"
      },
      "source": [
        "list1=[10,20,40,60,70,80] \n",
        "list2=[5,15,25,35,45,60] \n",
        "\n",
        "print (\"The original list 1 is : \" + str(list1)) \n",
        "print (\"The original list 2 is : \" + str(list2)) \n",
        " \n",
        "size1 = len(list1) \n",
        "size2 = len(list2) \n",
        "\n",
        "res = [] \n",
        "i, j = 0, 0\n",
        "\n",
        "while i < size1 and j < size2: \n",
        "\tif list1[i] < list2[j]: \n",
        "\t  res.append(list1[i]) \n",
        "\t  i += 1\n",
        "\n",
        "\telse: \n",
        "\t  res.append(list2[j]) \n",
        "\t  j += 1\n",
        "\n",
        "res = res + list1[i:] + list2[j:] \n",
        "\n",
        "print (\"The combined sorted list is : \" + str(res)) \n"
      ],
      "execution_count": 5,
      "outputs": [
        {
          "output_type": "stream",
          "text": [
            "The original list 1 is : [10, 20, 40, 60, 70, 80]\n",
            "The original list 2 is : [5, 15, 25, 35, 45, 60]\n",
            "The combined sorted list is : [5, 10, 15, 20, 25, 35, 40, 45, 60, 60, 70, 80]\n"
          ],
          "name": "stdout"
        }
      ]
    }
  ]
}